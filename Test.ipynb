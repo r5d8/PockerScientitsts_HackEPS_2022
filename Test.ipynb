{
 "cells": [
  {
   "cell_type": "markdown",
   "metadata": {},
   "source": [
    "# HackEPS 2022 tests"
   ]
  },
  {
   "cell_type": "markdown",
   "metadata": {},
   "source": [
    "## Challenge 1 parser"
   ]
  },
  {
   "cell_type": "code",
   "execution_count": 68,
   "metadata": {},
   "outputs": [],
   "source": [
    "import argparse\n",
    "import json\n",
    "from functools import reduce"
   ]
  },
  {
   "cell_type": "code",
   "execution_count": 69,
   "metadata": {},
   "outputs": [],
   "source": [
    "file_path = \"./challenge1\""
   ]
  },
  {
   "cell_type": "code",
   "execution_count": 70,
   "metadata": {},
   "outputs": [],
   "source": [
    "flatten = lambda l : [item for sublist in l for item in sublist]"
   ]
  },
  {
   "cell_type": "markdown",
   "metadata": {},
   "source": [
    "### Read and open files"
   ]
  },
  {
   "cell_type": "code",
   "execution_count": 71,
   "metadata": {},
   "outputs": [],
   "source": [
    "# input reading\n",
    "inJSON = open(file_path + \"/\" + \"challenge_1_input.json\")\n",
    "data = json.load(inJSON)\n",
    "\n",
    "# opening/creating output file\n",
    "plInput = open(\"./challenge1/prolog_input_challenge_1.pl\", \"w\")"
   ]
  },
  {
   "cell_type": "code",
   "execution_count": 72,
   "metadata": {},
   "outputs": [
    {
     "name": "stdout",
     "output_type": "stream",
     "text": [
      "{'orders': [{'name': 'charmander_figure::client_4710', 'tasks': [{'machine': 'print_3d', 'duration': 5}, {'machine': 'paint', 'duration': 2}]}, {'name': 'marketing_pin::client_0123', 'tasks': [{'machine': 'print_3d', 'duration': 4}]}, {'name': 'finish_order_412::client_3122', 'tasks': [{'machine': 'assembler', 'duration': 6}, {'machine': 'paint', 'duration': 2}, {'machine': 'print_3d', 'duration': 1}]}, {'name': 'model_suite_prototype::client_8692', 'tasks': [{'machine': 'print_3d', 'duration': 4}, {'machine': 'assembler', 'duration': 3}]}], 'machines': [{'id': 'paint'}, {'id': 'print_3d'}, {'id': 'assembler'}]}\n"
     ]
    }
   ],
   "source": [
    "print(data)"
   ]
  },
  {
   "cell_type": "markdown",
   "metadata": {},
   "source": [
    "### Order data"
   ]
  },
  {
   "cell_type": "code",
   "execution_count": 73,
   "metadata": {},
   "outputs": [],
   "source": [
    "machines = {}\n",
    "\n",
    "mac_to_id = {} #Map a machine name to its id\n",
    "id_to_mac = {} #Map a machine's id to its name\n",
    "\n",
    "for idm in range(len(data.get(\"machines\"))):\n",
    "    m = data.get(\"machines\")[idm]\n",
    "    machines[m.get('id')] = []\n",
    "    mac_to_id[m.get('id')] = \"m\" + str(idm)\n",
    "    id_to_mac[\"m\" + str(idm)] = m.get('id')\n"
   ]
  },
  {
   "cell_type": "code",
   "execution_count": 74,
   "metadata": {},
   "outputs": [
    {
     "name": "stdout",
     "output_type": "stream",
     "text": [
      "{'paint': [], 'print_3d': [], 'assembler': []}\n"
     ]
    }
   ],
   "source": [
    "print(machines)"
   ]
  },
  {
   "cell_type": "code",
   "execution_count": 75,
   "metadata": {},
   "outputs": [],
   "source": [
    "orders = {}\n",
    "tasks = {}\n",
    "\n",
    "ord_to_id = {}\n",
    "id_to_ord = {}\n",
    "\n",
    "for ido in range(len(data.get(\"orders\"))):\n",
    "    ord = data.get(\"orders\")[ido]\n",
    "\n",
    "    name = ord.get('name')\n",
    "    o_tasks = ord.get('tasks')\n",
    "\n",
    "    orders[name] = []\n",
    "\n",
    "    ord_to_id[name] = \"o\" + str(ido)\n",
    "    id_to_ord[\"o\" + str(ido)] = name\n",
    "\n",
    "    for idt in range(len(o_tasks)):\n",
    "        tas = o_tasks[idt]\n",
    "        task_name = \"o\" + str(ido) + \"t\" + str(idt)\n",
    "        \n",
    "        tasks[task_name] = tas.get(\"duration\")\n",
    "        machines[tas.get(\"machine\")].append(task_name)\n",
    "        orders[name].append(task_name)\n"
   ]
  },
  {
   "cell_type": "code",
   "execution_count": 76,
   "metadata": {},
   "outputs": [
    {
     "name": "stdout",
     "output_type": "stream",
     "text": [
      "{'charmander_figure::client_4710': ['o0t0', 'o0t1'], 'marketing_pin::client_0123': ['o1t0'], 'finish_order_412::client_3122': ['o2t0', 'o2t1', 'o2t2'], 'model_suite_prototype::client_8692': ['o3t0', 'o3t1']}\n"
     ]
    }
   ],
   "source": [
    "print(orders)"
   ]
  },
  {
   "cell_type": "code",
   "execution_count": 77,
   "metadata": {},
   "outputs": [
    {
     "name": "stdout",
     "output_type": "stream",
     "text": [
      "{'o0t0': 5, 'o0t1': 2, 'o1t0': 4, 'o2t0': 6, 'o2t1': 2, 'o2t2': 1, 'o3t0': 4, 'o3t1': 3}\n"
     ]
    }
   ],
   "source": [
    "print(tasks)"
   ]
  },
  {
   "cell_type": "code",
   "execution_count": 78,
   "metadata": {},
   "outputs": [
    {
     "name": "stdout",
     "output_type": "stream",
     "text": [
      "ID -> MAC {'m0': 'paint', 'm1': 'print_3d', 'm2': 'assembler'}\n",
      "MAC -> ID {'paint': 'm0', 'print_3d': 'm1', 'assembler': 'm2'}\n",
      "ID -> ORD {'o0': 'charmander_figure::client_4710', 'o1': 'marketing_pin::client_0123', 'o2': 'finish_order_412::client_3122', 'o3': 'model_suite_prototype::client_8692'}\n",
      "ORD -> ID {'charmander_figure::client_4710': 'o0', 'marketing_pin::client_0123': 'o1', 'finish_order_412::client_3122': 'o2', 'model_suite_prototype::client_8692': 'o3'}\n"
     ]
    }
   ],
   "source": [
    "print(\"ID -> MAC\", id_to_mac)\n",
    "print(\"MAC -> ID\", mac_to_id)\n",
    "print(\"ID -> ORD\", id_to_ord)\n",
    "print(\"ORD -> ID\", ord_to_id)"
   ]
  },
  {
   "cell_type": "markdown",
   "metadata": {},
   "source": [
    "### Create literals for prolog"
   ]
  },
  {
   "cell_type": "code",
   "execution_count": 79,
   "metadata": {},
   "outputs": [],
   "source": [
    "literals = []\n",
    "\n",
    "for m in machines.items():\n",
    "    l = \"machineTasks(\" + mac_to_id[m[0]] + \",[\"\n",
    "    for t in m[1]:\n",
    "        l += (t + \",\")\n",
    "    \n",
    "    if len(m[1]) > 0: l = l[:-1]\n",
    "    l += (\"]).\")\n",
    "\n",
    "    literals.append(l)"
   ]
  },
  {
   "cell_type": "code",
   "execution_count": 80,
   "metadata": {},
   "outputs": [],
   "source": [
    "for o in orders.items():\n",
    "    l = \"orders(\" + ord_to_id[o[0]] + \",[\"\n",
    "    for t in o[1]:\n",
    "        l += (t + \",\")\n",
    "    \n",
    "    if len(m[1]) > 0: l = l[:-1]\n",
    "    l += (\"]).\")\n",
    "    literals.append(l)"
   ]
  },
  {
   "cell_type": "code",
   "execution_count": 81,
   "metadata": {},
   "outputs": [],
   "source": [
    "for t in tasks.items():\n",
    "    l = \"taskDuration(\" + t[0] + \",\" + str(t[1]) + \").\"\n",
    "    literals.append(l)"
   ]
  },
  {
   "cell_type": "code",
   "execution_count": 82,
   "metadata": {},
   "outputs": [],
   "source": [
    "sumHoresTotal = reduce(lambda x, acc: x + acc, tasks.values(), 0)"
   ]
  },
  {
   "cell_type": "code",
   "execution_count": 83,
   "metadata": {},
   "outputs": [],
   "source": [
    "literals.append(\"maxHourInput(\" + str(sumHoresTotal) + \").\")"
   ]
  },
  {
   "cell_type": "code",
   "execution_count": 84,
   "metadata": {},
   "outputs": [
    {
     "name": "stdout",
     "output_type": "stream",
     "text": [
      "machineTasks(m0,[o0t1,o2t1]).\n",
      "machineTasks(m1,[o0t0,o1t0,o2t2,o3t0]).\n",
      "machineTasks(m2,[o2t0,o3t1]).\n",
      "orders(o0,[o0t0,o0t1]).\n",
      "orders(o1,[o1t0]).\n",
      "orders(o2,[o2t0,o2t1,o2t2]).\n",
      "orders(o3,[o3t0,o3t1]).\n",
      "taskDuration(o0t0,5).\n",
      "taskDuration(o0t1,2).\n",
      "taskDuration(o1t0,4).\n",
      "taskDuration(o2t0,6).\n",
      "taskDuration(o2t1,2).\n",
      "taskDuration(o2t2,1).\n",
      "taskDuration(o3t0,4).\n",
      "taskDuration(o3t1,3).\n",
      "maxHourInput(27).\n"
     ]
    }
   ],
   "source": [
    "for l in literals: print(l)"
   ]
  },
  {
   "cell_type": "code",
   "execution_count": 85,
   "metadata": {},
   "outputs": [],
   "source": [
    "for l in literals:\n",
    "    plInput.write(l + \"\\n\")"
   ]
  },
  {
   "cell_type": "code",
   "execution_count": 86,
   "metadata": {},
   "outputs": [],
   "source": [
    "plInput.close()"
   ]
  },
  {
   "cell_type": "markdown",
   "metadata": {},
   "source": [
    "### Read solution and get best"
   ]
  },
  {
   "cell_type": "code",
   "execution_count": 99,
   "metadata": {},
   "outputs": [],
   "source": [
    "file_path = \"./challenge1/\"\n",
    "\n",
    "raw = \"\"\n",
    "with open(file_path + \"prolog_output_challenge_1.txt\", \"r\") as f:\n",
    "    raw = reduce(lambda acc, x: acc + x + '\\n', [line.strip() for line in f.readlines()], \"\")\n",
    "\n",
    "#raw = open(file_path + \"prolog_output_challenge_1.txt\", \"r\")\n",
    "raw_sol = raw.split(\"Unsatisfiable. So the optimal solution was this one with cost \")"
   ]
  },
  {
   "cell_type": "markdown",
   "metadata": {},
   "source": [
    "### Prepare solution"
   ]
  },
  {
   "cell_type": "code",
   "execution_count": 100,
   "metadata": {},
   "outputs": [],
   "source": [
    "if len(raw_sol) > 0: raw_sol = raw_sol[1]\n",
    "else : \n",
    "    print(\"UNSAT!!\")\n",
    "    #return 0\n",
    "\n",
    "raw_sol = raw_sol.split('\\n\\n%% END OF FOUND SOLUTION %%')[0]\n",
    "cost, assig = raw_sol.split(':\\n')"
   ]
  },
  {
   "cell_type": "code",
   "execution_count": 118,
   "metadata": {},
   "outputs": [
    {
     "name": "stdout",
     "output_type": "stream",
     "text": [
      "14 Machine: m0\n",
      "Task: o0t1 13-14\n",
      "Task: o2t1 7-8\n",
      "Machine: m1\n",
      "Task: o0t0 5-9\n",
      "Task: o1t0 10-13\n",
      "Task: o2t2 14-14\n",
      "Task: o3t0 1-4\n",
      "Machine: m2\n",
      "Task: o2t0 1-6\n",
      "Task: o3t1 12-14\n",
      "\n"
     ]
    }
   ],
   "source": [
    "print(cost, assig)"
   ]
  },
  {
   "cell_type": "code",
   "execution_count": 108,
   "metadata": {},
   "outputs": [],
   "source": [
    "which_order = lambda tid: tid.split('t')[0]\n",
    "which_task_number = lambda tid: int(tid.split('t')[1])"
   ]
  },
  {
   "cell_type": "code",
   "execution_count": 104,
   "metadata": {},
   "outputs": [
    {
     "name": "stdout",
     "output_type": "stream",
     "text": [
      "['', 'm0\\nTask: o0t1 13-14\\nTask: o2t1 7-8\\n', 'm1\\nTask: o0t0 5-9\\nTask: o1t0 10-13\\nTask: o2t2 14-14\\nTask: o3t0 1-4\\n', 'm2\\nTask: o2t0 1-6\\nTask: o3t1 12-14\\n']\n"
     ]
    }
   ],
   "source": [
    "print(assig.split(\"Machine: \"))"
   ]
  },
  {
   "cell_type": "code",
   "execution_count": 116,
   "metadata": {},
   "outputs": [],
   "source": [
    "machines_res = []\n",
    "\n",
    "for m in assig.split(\"Machine: \")[1:]:\n",
    "    t = m.split('\\n')\n",
    "    dicMac = {\"id\" : t[0]}\n",
    "    dicMac[\"tasks\"] = []\n",
    "\n",
    "    for tt in t[1:-1]:\n",
    "        ttt = tt.split(' ')\n",
    "        dicMac[\"tasks\"].append(\n",
    "            {\n",
    "                \"order\": id_to_ord[which_order(ttt[1])],\n",
    "                \"task_number\": which_task_number(ttt[1]),\n",
    "                \"start_at\": int(ttt[2].split('-')[0]),\n",
    "                \"end_at\": int(ttt[2].split('-')[1])\n",
    "            }\n",
    "        )\n",
    "        #print(dicMac)\n",
    "    \n",
    "    machines_res.append(dicMac)\n"
   ]
  },
  {
   "cell_type": "code",
   "execution_count": 117,
   "metadata": {},
   "outputs": [
    {
     "name": "stdout",
     "output_type": "stream",
     "text": [
      "[{'id': 'm0', 'tasks': [{'order': 'charmander_figure::client_4710', 'task_number': 1, 'start_at': 13, 'end_at': 14}, {'order': 'finish_order_412::client_3122', 'task_number': 1, 'start_at': 7, 'end_at': 8}]}, {'id': 'm1', 'tasks': [{'order': 'charmander_figure::client_4710', 'task_number': 0, 'start_at': 5, 'end_at': 9}, {'order': 'marketing_pin::client_0123', 'task_number': 0, 'start_at': 10, 'end_at': 13}, {'order': 'finish_order_412::client_3122', 'task_number': 2, 'start_at': 14, 'end_at': 14}, {'order': 'model_suite_prototype::client_8692', 'task_number': 0, 'start_at': 1, 'end_at': 4}]}, {'id': 'm2', 'tasks': [{'order': 'finish_order_412::client_3122', 'task_number': 0, 'start_at': 1, 'end_at': 6}, {'order': 'model_suite_prototype::client_8692', 'task_number': 1, 'start_at': 12, 'end_at': 14}]}]\n"
     ]
    }
   ],
   "source": [
    "print(machines_res)"
   ]
  },
  {
   "cell_type": "code",
   "execution_count": 120,
   "metadata": {},
   "outputs": [
    {
     "name": "stdout",
     "output_type": "stream",
     "text": [
      "{'cost': '14', 'assignation': [{'id': 'm0', 'tasks': [{'order': 'charmander_figure::client_4710', 'task_number': 1, 'start_at': 13, 'end_at': 14}, {'order': 'finish_order_412::client_3122', 'task_number': 1, 'start_at': 7, 'end_at': 8}]}, {'id': 'm1', 'tasks': [{'order': 'charmander_figure::client_4710', 'task_number': 0, 'start_at': 5, 'end_at': 9}, {'order': 'marketing_pin::client_0123', 'task_number': 0, 'start_at': 10, 'end_at': 13}, {'order': 'finish_order_412::client_3122', 'task_number': 2, 'start_at': 14, 'end_at': 14}, {'order': 'model_suite_prototype::client_8692', 'task_number': 0, 'start_at': 1, 'end_at': 4}]}, {'id': 'm2', 'tasks': [{'order': 'finish_order_412::client_3122', 'task_number': 0, 'start_at': 1, 'end_at': 6}, {'order': 'model_suite_prototype::client_8692', 'task_number': 1, 'start_at': 12, 'end_at': 14}]}]}\n"
     ]
    }
   ],
   "source": [
    "result_processed = {\"cost\" : cost, \"assignation\" : machines_res}\n",
    "print(result_processed)"
   ]
  },
  {
   "cell_type": "markdown",
   "metadata": {},
   "source": [
    "### Write solution"
   ]
  },
  {
   "cell_type": "markdown",
   "metadata": {},
   "source": [
    "## Challenge 2 parser"
   ]
  },
  {
   "cell_type": "markdown",
   "metadata": {},
   "source": [
    "### Read and open files"
   ]
  },
  {
   "cell_type": "code",
   "execution_count": 132,
   "metadata": {},
   "outputs": [],
   "source": [
    "file_path = './challenge2/'"
   ]
  },
  {
   "cell_type": "code",
   "execution_count": 133,
   "metadata": {},
   "outputs": [],
   "source": [
    "# input reading\n",
    "inJSON = open(file_path + \"/\" + \"challenge_2_input.json\")\n",
    "data = json.load(inJSON)\n",
    "\n",
    "# opening/creating output file\n",
    "plInput = open(\"./challenge2/prolog_input_challenge_2.pl\", \"w\")"
   ]
  },
  {
   "cell_type": "code",
   "execution_count": 134,
   "metadata": {},
   "outputs": [
    {
     "name": "stdout",
     "output_type": "stream",
     "text": [
      "{'orders': [{'id': 'client::0000', 'quantity': 1, 'tasks': [{'task_number': 0, 'machine': 'painter'}, {'task_number': 1, 'machine': 'printer_fdm'}, {'task_number': 2, 'machine': 'hand_polish'}]}, {'id': 'client::0001', 'quantity': 2, 'tasks': [{'task_number': 0, 'machine': 'painter'}, {'task_number': 1, 'machine': 'printer_fdm'}, {'task_number': 2, 'machine': 'hand_polish'}]}, {'id': 'client::0002', 'quantity': 3, 'tasks': [{'task_number': 0, 'machine': 'painter'}, {'task_number': 1, 'machine': 'hand_polish'}]}, {'id': 'client::0003', 'quantity': 2, 'tasks': [{'task_number': 0, 'machine': 'painter'}, {'task_number': 1, 'machine': 'printer_fdm'}, {'task_number': 2, 'machine': 'hand_polish'}]}, {'id': 'client::0004', 'quantity': 1, 'tasks': [{'task_number': 0, 'machine': 'painter'}, {'task_number': 1, 'machine': 'printer_fdm'}, {'task_number': 2, 'machine': 'hand_polish'}]}, {'id': 'client::0005', 'quantity': 2, 'tasks': [{'task_number': 0, 'machine': 'printer_fdm'}, {'task_number': 1, 'machine': 'hand_polish'}, {'task_number': 2, 'machine': 'painter'}]}, {'id': 'client::0006', 'quantity': 1, 'tasks': [{'task_number': 0, 'machine': 'painter'}, {'task_number': 1, 'machine': 'printer_fdm'}]}, {'id': 'client::0007', 'quantity': 2, 'tasks': [{'task_number': 0, 'machine': 'painter'}, {'task_number': 1, 'machine': 'printer_fdm'}]}, {'id': 'client::0008', 'quantity': 2, 'tasks': [{'task_number': 0, 'machine': 'printer_fdm'}, {'task_number': 1, 'machine': 'painter'}, {'task_number': 2, 'machine': 'hand_polish'}]}, {'id': 'client::0009', 'quantity': 3, 'tasks': [{'task_number': 0, 'machine': 'printer_fdm'}, {'task_number': 1, 'machine': 'printer_mjf'}, {'task_number': 2, 'machine': 'painter'}]}, {'id': 'client::0010', 'quantity': 1, 'tasks': [{'task_number': 0, 'machine': 'hand_polish'}, {'task_number': 1, 'machine': 'painter'}, {'task_number': 2, 'machine': 'printer_fdm'}]}, {'id': 'client::0011', 'quantity': 3, 'tasks': [{'task_number': 0, 'machine': 'printer_mjf'}, {'task_number': 1, 'machine': 'painter'}, {'task_number': 2, 'machine': 'printer_fdm'}, {'task_number': 3, 'machine': 'hand_polish'}]}, {'id': 'client::0012', 'quantity': 1, 'tasks': [{'task_number': 0, 'machine': 'hand_polish'}, {'task_number': 1, 'machine': 'painter'}, {'task_number': 2, 'machine': 'printer_fdm'}]}, {'id': 'client::0013', 'quantity': 1, 'tasks': [{'task_number': 0, 'machine': 'painter'}, {'task_number': 1, 'machine': 'printer_fdm'}]}, {'id': 'client::0014', 'quantity': 3, 'tasks': [{'task_number': 0, 'machine': 'printer_mjf'}, {'task_number': 1, 'machine': 'painter'}, {'task_number': 2, 'machine': 'printer_fdm'}]}, {'id': 'client::0015', 'quantity': 2, 'tasks': [{'task_number': 0, 'machine': 'painter'}]}, {'id': 'client::0016', 'quantity': 1, 'tasks': [{'task_number': 0, 'machine': 'hand_polish'}]}, {'id': 'client::0017', 'quantity': 1, 'tasks': [{'task_number': 0, 'machine': 'painter'}, {'task_number': 1, 'machine': 'hand_polish'}, {'task_number': 2, 'machine': 'printer_fdm'}]}, {'id': 'client::0018', 'quantity': 1, 'tasks': [{'task_number': 0, 'machine': 'painter'}, {'task_number': 1, 'machine': 'printer_fdm'}]}, {'id': 'client::0019', 'quantity': 2, 'tasks': [{'task_number': 0, 'machine': 'painter'}, {'task_number': 1, 'machine': 'hand_polish'}]}], 'machines': [{'id': 'printer_fdm', 'category': 'print', 'load_time': 0.1, 'unload_time': 0.1, 'execution_time': '1.2 * x', 'multiple': False, 'max_items': 1}, {'id': 'printer_mjf', 'category': 'print', 'load_time': 0.15, 'unload_time': 0.2, 'execution_time': '0.3 * x + 0.5', 'multiple': True, 'max_items': 3}, {'id': 'hand_polish', 'category': 'polish', 'load_time': 0, 'unload_time': 0, 'execution_time': '0.75 * x', 'multiple': False, 'max_items': 1}, {'id': 'tumble_polish', 'category': 'polish', 'load_time': 0.15, 'unload_time': 0.3, 'execution_time': '1', 'multiple': True, 'max_items': 4}, {'id': 'dyer', 'category': 'dye', 'load_time': 2, 'unload_time': 2.5, 'execution_time': '0.8 * x + 4', 'multiple': True, 'max_items': 5}, {'id': 'painter', 'category': 'paint', 'load_time': 0.1, 'unload_time': 4, 'execution_time': '1.2 * x', 'multiple': False, 'max_items': 1}]}\n"
     ]
    }
   ],
   "source": [
    "print(data)"
   ]
  },
  {
   "cell_type": "markdown",
   "metadata": {},
   "source": [
    "### Machine data"
   ]
  },
  {
   "cell_type": "code",
   "execution_count": 135,
   "metadata": {},
   "outputs": [],
   "source": [
    "machines = {}\n",
    "\n",
    "mac_to_id = {} #Map a machine name to its id\n",
    "id_to_mac = {} #Map a machine's id to its name\n",
    "\n",
    "for idm in range(len(data.get(\"machines\"))):\n",
    "    m = data.get(\"machines\")[idm]\n",
    "    machines[m.get('id')] = []\n",
    "    mac_to_id[m.get('id')] = \"m\" + str(idm)\n",
    "    id_to_mac[\"m\" + str(idm)] = m.get('id')"
   ]
  },
  {
   "cell_type": "code",
   "execution_count": 136,
   "metadata": {},
   "outputs": [],
   "source": [
    "def linear_eq_params(eq):\n",
    "    if eq == \"\":\n",
    "        return 0, 0\n",
    "    elif ' * x + ' in eq:\n",
    "        return float(eq.split(' * x + ')[0]), float(eq.split(' * x + ')[1])\n",
    "    elif ' * x' in eq:\n",
    "        return float(eq.split(' * x')[0]), 0\n",
    "    elif not ('x' in eq):\n",
    "        return 0, float(eq)"
   ]
  },
  {
   "cell_type": "code",
   "execution_count": 137,
   "metadata": {},
   "outputs": [],
   "source": [
    "machine_config = {}\n",
    "\n",
    "for idm in range(len(data.get(\"machines\"))):\n",
    "    m = data.get(\"machines\")[idm]\n",
    "\n",
    "    MUL, ADD = linear_eq_params(m.get(\"execution_time\"))\n",
    "    machine_config[m.get('id')] = {\n",
    "        \"LT\": float(m.get(\"load_time\")),\n",
    "        \"UT\": float(m.get(\"unload_time\")),\n",
    "        \"MUL\": MUL,\n",
    "        \"ADD\": ADD,\n",
    "        \"MAXI\": m.get(\"max_items\")\n",
    "    }\n"
   ]
  },
  {
   "cell_type": "code",
   "execution_count": 138,
   "metadata": {},
   "outputs": [
    {
     "data": {
      "text/plain": [
       "{'printer_fdm': {'LT': 0.1, 'UT': 0.1, 'MUL': 1.2, 'ADD': 0, 'MAXI': 1},\n",
       " 'printer_mjf': {'LT': 0.15, 'UT': 0.2, 'MUL': 0.3, 'ADD': 0.5, 'MAXI': 3},\n",
       " 'hand_polish': {'LT': 0.0, 'UT': 0.0, 'MUL': 0.75, 'ADD': 0, 'MAXI': 1},\n",
       " 'tumble_polish': {'LT': 0.15, 'UT': 0.3, 'MUL': 0, 'ADD': 1.0, 'MAXI': 4},\n",
       " 'dyer': {'LT': 2.0, 'UT': 2.5, 'MUL': 0.8, 'ADD': 4.0, 'MAXI': 5},\n",
       " 'painter': {'LT': 0.1, 'UT': 4.0, 'MUL': 1.2, 'ADD': 0, 'MAXI': 1}}"
      ]
     },
     "execution_count": 138,
     "metadata": {},
     "output_type": "execute_result"
    }
   ],
   "source": [
    "machine_config"
   ]
  },
  {
   "cell_type": "markdown",
   "metadata": {},
   "source": [
    "### Order data"
   ]
  },
  {
   "cell_type": "code",
   "execution_count": 142,
   "metadata": {},
   "outputs": [],
   "source": [
    "orders = {}\n",
    "tasks = {}\n",
    "\n",
    "ord_to_id = {}\n",
    "id_to_ord = {}\n",
    "\n",
    "for ido in range(len(data.get(\"orders\"))):\n",
    "    ord = data.get(\"orders\")[ido]\n",
    "\n",
    "    name = ord.get('id')\n",
    "    o_tasks = ord.get('tasks')\n",
    "    qtt = ord.get('quantity')\n",
    "\n",
    "    orders[name] = []\n",
    "\n",
    "    ord_to_id[name] = \"o\" + str(ido)\n",
    "    id_to_ord[\"o\" + str(ido)] = name\n",
    "\n",
    "    for tas in o_tasks:\n",
    "        idt = int(tas.get(\"task_number\"))\n",
    "        task_name = \"o\" + str(ido) + \"t\" + str(idt)\n",
    "        \n",
    "        tasks[task_name] = qtt\n",
    "        machines[tas.get(\"machine\")].append(task_name)\n",
    "        orders[name].append(task_name)"
   ]
  },
  {
   "cell_type": "code",
   "execution_count": 146,
   "metadata": {},
   "outputs": [
    {
     "name": "stdout",
     "output_type": "stream",
     "text": [
      "{'client::0000': ['o0t0', 'o0t1', 'o0t2'], 'client::0001': ['o1t0', 'o1t1', 'o1t2'], 'client::0002': ['o2t0', 'o2t1'], 'client::0003': ['o3t0', 'o3t1', 'o3t2'], 'client::0004': ['o4t0', 'o4t1', 'o4t2'], 'client::0005': ['o5t0', 'o5t1', 'o5t2'], 'client::0006': ['o6t0', 'o6t1'], 'client::0007': ['o7t0', 'o7t1'], 'client::0008': ['o8t0', 'o8t1', 'o8t2'], 'client::0009': ['o9t0', 'o9t1', 'o9t2'], 'client::0010': ['o10t0', 'o10t1', 'o10t2'], 'client::0011': ['o11t0', 'o11t1', 'o11t2', 'o11t3'], 'client::0012': ['o12t0', 'o12t1', 'o12t2'], 'client::0013': ['o13t0', 'o13t1'], 'client::0014': ['o14t0', 'o14t1', 'o14t2'], 'client::0015': ['o15t0'], 'client::0016': ['o16t0'], 'client::0017': ['o17t0', 'o17t1', 'o17t2'], 'client::0018': ['o18t0', 'o18t1'], 'client::0019': ['o19t0', 'o19t1']}\n"
     ]
    }
   ],
   "source": [
    "print(orders)"
   ]
  },
  {
   "cell_type": "code",
   "execution_count": 147,
   "metadata": {},
   "outputs": [
    {
     "name": "stdout",
     "output_type": "stream",
     "text": [
      "{'o0t0': 1, 'o0t1': 1, 'o0t2': 1, 'o1t0': 2, 'o1t1': 2, 'o1t2': 2, 'o2t0': 3, 'o2t1': 3, 'o3t0': 2, 'o3t1': 2, 'o3t2': 2, 'o4t0': 1, 'o4t1': 1, 'o4t2': 1, 'o5t0': 2, 'o5t1': 2, 'o5t2': 2, 'o6t0': 1, 'o6t1': 1, 'o7t0': 2, 'o7t1': 2, 'o8t0': 2, 'o8t1': 2, 'o8t2': 2, 'o9t0': 3, 'o9t1': 3, 'o9t2': 3, 'o10t0': 1, 'o10t1': 1, 'o10t2': 1, 'o11t0': 3, 'o11t1': 3, 'o11t2': 3, 'o11t3': 3, 'o12t0': 1, 'o12t1': 1, 'o12t2': 1, 'o13t0': 1, 'o13t1': 1, 'o14t0': 3, 'o14t1': 3, 'o14t2': 3, 'o15t0': 2, 'o16t0': 1, 'o17t0': 1, 'o17t1': 1, 'o17t2': 1, 'o18t0': 1, 'o18t1': 1, 'o19t0': 2, 'o19t1': 2}\n"
     ]
    }
   ],
   "source": [
    "print(tasks)"
   ]
  },
  {
   "cell_type": "code",
   "execution_count": 145,
   "metadata": {},
   "outputs": [
    {
     "name": "stdout",
     "output_type": "stream",
     "text": [
      "ID -> MAC {'m0': 'printer_fdm', 'm1': 'printer_mjf', 'm2': 'hand_polish', 'm3': 'tumble_polish', 'm4': 'dyer', 'm5': 'painter'}\n",
      "MAC -> ID {'printer_fdm': 'm0', 'printer_mjf': 'm1', 'hand_polish': 'm2', 'tumble_polish': 'm3', 'dyer': 'm4', 'painter': 'm5'}\n",
      "ID -> ORD {'o0': 'client::0000', 'o1': 'client::0001', 'o2': 'client::0002', 'o3': 'client::0003', 'o4': 'client::0004', 'o5': 'client::0005', 'o6': 'client::0006', 'o7': 'client::0007', 'o8': 'client::0008', 'o9': 'client::0009', 'o10': 'client::0010', 'o11': 'client::0011', 'o12': 'client::0012', 'o13': 'client::0013', 'o14': 'client::0014', 'o15': 'client::0015', 'o16': 'client::0016', 'o17': 'client::0017', 'o18': 'client::0018', 'o19': 'client::0019'}\n",
      "ORD -> ID {'client::0000': 'o0', 'client::0001': 'o1', 'client::0002': 'o2', 'client::0003': 'o3', 'client::0004': 'o4', 'client::0005': 'o5', 'client::0006': 'o6', 'client::0007': 'o7', 'client::0008': 'o8', 'client::0009': 'o9', 'client::0010': 'o10', 'client::0011': 'o11', 'client::0012': 'o12', 'client::0013': 'o13', 'client::0014': 'o14', 'client::0015': 'o15', 'client::0016': 'o16', 'client::0017': 'o17', 'client::0018': 'o18', 'client::0019': 'o19'}\n"
     ]
    }
   ],
   "source": [
    "print(\"ID -> MAC\", id_to_mac)\n",
    "print(\"MAC -> ID\", mac_to_id)\n",
    "print(\"ID -> ORD\", id_to_ord)\n",
    "print(\"ORD -> ID\", ord_to_id)"
   ]
  },
  {
   "cell_type": "markdown",
   "metadata": {},
   "source": [
    "### Create literals for prolog"
   ]
  },
  {
   "cell_type": "code",
   "execution_count": 158,
   "metadata": {},
   "outputs": [],
   "source": [
    "literals = []\n",
    "\n",
    "for m in machines.items():\n",
    "    l = \"machineTasks(\" + mac_to_id[m[0]] + \",[\"\n",
    "    for t in m[1]:\n",
    "        l += (t + \",\")\n",
    "    \n",
    "    if len(m[1]) > 0: l = l[:-1]\n",
    "    l += (\"]).\")\n",
    "\n",
    "    literals.append(l)"
   ]
  },
  {
   "cell_type": "code",
   "execution_count": 159,
   "metadata": {},
   "outputs": [],
   "source": [
    "for o in orders.items():\n",
    "    l = \"orders(\" + ord_to_id[o[0]] + \",[\"\n",
    "    for t in o[1]:\n",
    "        l += (t + \",\")\n",
    "    \n",
    "    if len(m[1]) > 0: l = l[:-1]\n",
    "    l += (\"]).\")\n",
    "    literals.append(l)"
   ]
  },
  {
   "cell_type": "code",
   "execution_count": 160,
   "metadata": {},
   "outputs": [],
   "source": [
    "for t in tasks.items():\n",
    "    l = \"taskDuration(\" + t[0] + \",\" + str(t[1]) + \").\"\n",
    "    literals.append(l)"
   ]
  },
  {
   "cell_type": "code",
   "execution_count": 161,
   "metadata": {},
   "outputs": [],
   "source": [
    "for mc in machine_config.items():\n",
    "    l = \"machineConfig(\" + mc[0] + \",\"\n",
    "    for param in mc[1].values():\n",
    "        l += str(param) + \",\"\n",
    "    l = l[:-1]\n",
    "    l += \").\"\n",
    "    literals.append(l)"
   ]
  },
  {
   "cell_type": "code",
   "execution_count": 162,
   "metadata": {},
   "outputs": [
    {
     "name": "stdout",
     "output_type": "stream",
     "text": [
      "machineTasks(m0,[o0t1,o1t1,o3t1,o4t1,o5t0,o6t1,o7t1,o8t0,o9t0,o10t2,o11t2,o12t2,o13t1,o14t2,o17t2,o18t1,o0t1,o1t1,o3t1,o4t1,o5t0,o6t1,o7t1,o8t0,o9t0,o10t2,o11t2,o12t2,o13t1,o14t2,o17t2,o18t1]).\n",
      "machineTasks(m1,[o9t1,o11t0,o14t0,o9t1,o11t0,o14t0]).\n",
      "machineTasks(m2,[o0t2,o1t2,o2t1,o3t2,o4t2,o5t1,o8t2,o10t0,o11t3,o12t0,o16t0,o17t1,o19t1,o0t2,o1t2,o2t1,o3t2,o4t2,o5t1,o8t2,o10t0,o11t3,o12t0,o16t0,o17t1,o19t1]).\n",
      "machineTasks(m3,[]).\n",
      "machineTasks(m4,[]).\n",
      "machineTasks(m5,[o0t0,o1t0,o2t0,o3t0,o4t0,o5t2,o6t0,o7t0,o8t1,o9t2,o10t1,o11t1,o12t1,o13t0,o14t1,o15t0,o17t0,o18t0,o19t0,o0t0,o1t0,o2t0,o3t0,o4t0,o5t2,o6t0,o7t0,o8t1,o9t2,o10t1,o11t1,o12t1,o13t0,o14t1,o15t0,o17t0,o18t0,o19t0]).\n",
      "orders(o0,[o0t0,o0t1,o0t2]).\n",
      "orders(o1,[o1t0,o1t1,o1t2]).\n",
      "orders(o2,[o2t0,o2t1]).\n",
      "orders(o3,[o3t0,o3t1,o3t2]).\n",
      "orders(o4,[o4t0,o4t1,o4t2]).\n",
      "orders(o5,[o5t0,o5t1,o5t2]).\n",
      "orders(o6,[o6t0,o6t1]).\n",
      "orders(o7,[o7t0,o7t1]).\n",
      "orders(o8,[o8t0,o8t1,o8t2]).\n",
      "orders(o9,[o9t0,o9t1,o9t2]).\n",
      "orders(o10,[o10t0,o10t1,o10t2]).\n",
      "orders(o11,[o11t0,o11t1,o11t2,o11t3]).\n",
      "orders(o12,[o12t0,o12t1,o12t2]).\n",
      "orders(o13,[o13t0,o13t1]).\n",
      "orders(o14,[o14t0,o14t1,o14t2]).\n",
      "orders(o15,[o15t0]).\n",
      "orders(o16,[o16t0]).\n",
      "orders(o17,[o17t0,o17t1,o17t2]).\n",
      "orders(o18,[o18t0,o18t1]).\n",
      "orders(o19,[o19t0,o19t1]).\n",
      "taskDuration(o0t0,1).\n",
      "taskDuration(o0t1,1).\n",
      "taskDuration(o0t2,1).\n",
      "taskDuration(o1t0,2).\n",
      "taskDuration(o1t1,2).\n",
      "taskDuration(o1t2,2).\n",
      "taskDuration(o2t0,3).\n",
      "taskDuration(o2t1,3).\n",
      "taskDuration(o3t0,2).\n",
      "taskDuration(o3t1,2).\n",
      "taskDuration(o3t2,2).\n",
      "taskDuration(o4t0,1).\n",
      "taskDuration(o4t1,1).\n",
      "taskDuration(o4t2,1).\n",
      "taskDuration(o5t0,2).\n",
      "taskDuration(o5t1,2).\n",
      "taskDuration(o5t2,2).\n",
      "taskDuration(o6t0,1).\n",
      "taskDuration(o6t1,1).\n",
      "taskDuration(o7t0,2).\n",
      "taskDuration(o7t1,2).\n",
      "taskDuration(o8t0,2).\n",
      "taskDuration(o8t1,2).\n",
      "taskDuration(o8t2,2).\n",
      "taskDuration(o9t0,3).\n",
      "taskDuration(o9t1,3).\n",
      "taskDuration(o9t2,3).\n",
      "taskDuration(o10t0,1).\n",
      "taskDuration(o10t1,1).\n",
      "taskDuration(o10t2,1).\n",
      "taskDuration(o11t0,3).\n",
      "taskDuration(o11t1,3).\n",
      "taskDuration(o11t2,3).\n",
      "taskDuration(o11t3,3).\n",
      "taskDuration(o12t0,1).\n",
      "taskDuration(o12t1,1).\n",
      "taskDuration(o12t2,1).\n",
      "taskDuration(o13t0,1).\n",
      "taskDuration(o13t1,1).\n",
      "taskDuration(o14t0,3).\n",
      "taskDuration(o14t1,3).\n",
      "taskDuration(o14t2,3).\n",
      "taskDuration(o15t0,2).\n",
      "taskDuration(o16t0,1).\n",
      "taskDuration(o17t0,1).\n",
      "taskDuration(o17t1,1).\n",
      "taskDuration(o17t2,1).\n",
      "taskDuration(o18t0,1).\n",
      "taskDuration(o18t1,1).\n",
      "taskDuration(o19t0,2).\n",
      "taskDuration(o19t1,2).\n",
      "machineConfig(printer_fdm,0.1,0.1,1.2,0,1).\n",
      "machineConfig(printer_mjf,0.15,0.2,0.3,0.5,3).\n",
      "machineConfig(hand_polish,0.0,0.0,0.75,0,1).\n",
      "machineConfig(tumble_polish,0.15,0.3,0,1.0,4).\n",
      "machineConfig(dyer,2.0,2.5,0.8,4.0,5).\n",
      "machineConfig(painter,0.1,4.0,1.2,0,1).\n"
     ]
    }
   ],
   "source": [
    "for l in literals: print(l)"
   ]
  },
  {
   "cell_type": "code",
   "execution_count": null,
   "metadata": {},
   "outputs": [],
   "source": [
    "for l in literals:\n",
    "    plInput.write(l + \"\\n\")"
   ]
  },
  {
   "cell_type": "code",
   "execution_count": null,
   "metadata": {},
   "outputs": [],
   "source": [
    "plInput.close()"
   ]
  }
 ],
 "metadata": {
  "kernelspec": {
   "display_name": "Python 3.9.13 64-bit (microsoft store)",
   "language": "python",
   "name": "python3"
  },
  "language_info": {
   "codemirror_mode": {
    "name": "ipython",
    "version": 3
   },
   "file_extension": ".py",
   "mimetype": "text/x-python",
   "name": "python",
   "nbconvert_exporter": "python",
   "pygments_lexer": "ipython3",
   "version": "3.9.13"
  },
  "orig_nbformat": 4,
  "vscode": {
   "interpreter": {
    "hash": "502030e9bdc890c4084c89b6f4b246906493deb76d1d643d971b6ed9357b50d8"
   }
  }
 },
 "nbformat": 4,
 "nbformat_minor": 2
}
