{
 "cells": [
  {
   "cell_type": "markdown",
   "metadata": {},
   "source": [
    "# HackEPS 2022 tests"
   ]
  },
  {
   "cell_type": "markdown",
   "metadata": {},
   "source": [
    "## Challenge 1 parser"
   ]
  },
  {
   "cell_type": "code",
   "execution_count": 68,
   "metadata": {},
   "outputs": [],
   "source": [
    "import argparse\n",
    "import json\n",
    "from functools import reduce"
   ]
  },
  {
   "cell_type": "code",
   "execution_count": 69,
   "metadata": {},
   "outputs": [],
   "source": [
    "file_path = \"./challenge1\""
   ]
  },
  {
   "cell_type": "code",
   "execution_count": 70,
   "metadata": {},
   "outputs": [],
   "source": [
    "flatten = lambda l : [item for sublist in l for item in sublist]"
   ]
  },
  {
   "cell_type": "markdown",
   "metadata": {},
   "source": [
    "### Read and open files"
   ]
  },
  {
   "cell_type": "code",
   "execution_count": 71,
   "metadata": {},
   "outputs": [],
   "source": [
    "# input reading\n",
    "inJSON = open(file_path + \"/\" + \"challenge_1_input.json\")\n",
    "data = json.load(inJSON)\n",
    "\n",
    "# opening/creating output file\n",
    "plInput = open(\"./challenge1/prolog_input_challenge_1.pl\", \"w\")"
   ]
  },
  {
   "cell_type": "code",
   "execution_count": 72,
   "metadata": {},
   "outputs": [
    {
     "name": "stdout",
     "output_type": "stream",
     "text": [
      "{'orders': [{'name': 'charmander_figure::client_4710', 'tasks': [{'machine': 'print_3d', 'duration': 5}, {'machine': 'paint', 'duration': 2}]}, {'name': 'marketing_pin::client_0123', 'tasks': [{'machine': 'print_3d', 'duration': 4}]}, {'name': 'finish_order_412::client_3122', 'tasks': [{'machine': 'assembler', 'duration': 6}, {'machine': 'paint', 'duration': 2}, {'machine': 'print_3d', 'duration': 1}]}, {'name': 'model_suite_prototype::client_8692', 'tasks': [{'machine': 'print_3d', 'duration': 4}, {'machine': 'assembler', 'duration': 3}]}], 'machines': [{'id': 'paint'}, {'id': 'print_3d'}, {'id': 'assembler'}]}\n"
     ]
    }
   ],
   "source": [
    "print(data)"
   ]
  },
  {
   "cell_type": "markdown",
   "metadata": {},
   "source": [
    "### Order data"
   ]
  },
  {
   "cell_type": "code",
   "execution_count": 73,
   "metadata": {},
   "outputs": [],
   "source": [
    "machines = {}\n",
    "\n",
    "mac_to_id = {} #Map a machine name to its id\n",
    "id_to_mac = {} #Map a machine's id to its name\n",
    "\n",
    "for idm in range(len(data.get(\"machines\"))):\n",
    "    m = data.get(\"machines\")[idm]\n",
    "    machines[m.get('id')] = []\n",
    "    mac_to_id[m.get('id')] = \"m\" + str(idm)\n",
    "    id_to_mac[\"m\" + str(idm)] = m.get('id')\n"
   ]
  },
  {
   "cell_type": "code",
   "execution_count": 74,
   "metadata": {},
   "outputs": [
    {
     "name": "stdout",
     "output_type": "stream",
     "text": [
      "{'paint': [], 'print_3d': [], 'assembler': []}\n"
     ]
    }
   ],
   "source": [
    "print(machines)"
   ]
  },
  {
   "cell_type": "code",
   "execution_count": 75,
   "metadata": {},
   "outputs": [],
   "source": [
    "orders = {}\n",
    "tasks = {}\n",
    "\n",
    "ord_to_id = {}\n",
    "id_to_ord = {}\n",
    "\n",
    "for ido in range(len(data.get(\"orders\"))):\n",
    "    ord = data.get(\"orders\")[ido]\n",
    "\n",
    "    name = ord.get('name')\n",
    "    o_tasks = ord.get('tasks')\n",
    "\n",
    "    orders[name] = []\n",
    "\n",
    "    ord_to_id[name] = \"o\" + str(ido)\n",
    "    id_to_ord[\"o\" + str(ido)] = name\n",
    "\n",
    "    for idt in range(len(o_tasks)):\n",
    "        tas = o_tasks[idt]\n",
    "        task_name = \"o\" + str(ido) + \"t\" + str(idt)\n",
    "        \n",
    "        tasks[task_name] = tas.get(\"duration\")\n",
    "        machines[tas.get(\"machine\")].append(task_name)\n",
    "        orders[name].append(task_name)\n"
   ]
  },
  {
   "cell_type": "code",
   "execution_count": 76,
   "metadata": {},
   "outputs": [
    {
     "name": "stdout",
     "output_type": "stream",
     "text": [
      "{'charmander_figure::client_4710': ['o0t0', 'o0t1'], 'marketing_pin::client_0123': ['o1t0'], 'finish_order_412::client_3122': ['o2t0', 'o2t1', 'o2t2'], 'model_suite_prototype::client_8692': ['o3t0', 'o3t1']}\n"
     ]
    }
   ],
   "source": [
    "print(orders)"
   ]
  },
  {
   "cell_type": "code",
   "execution_count": 77,
   "metadata": {},
   "outputs": [
    {
     "name": "stdout",
     "output_type": "stream",
     "text": [
      "{'o0t0': 5, 'o0t1': 2, 'o1t0': 4, 'o2t0': 6, 'o2t1': 2, 'o2t2': 1, 'o3t0': 4, 'o3t1': 3}\n"
     ]
    }
   ],
   "source": [
    "print(tasks)"
   ]
  },
  {
   "cell_type": "code",
   "execution_count": 78,
   "metadata": {},
   "outputs": [
    {
     "name": "stdout",
     "output_type": "stream",
     "text": [
      "ID -> MAC {'m0': 'paint', 'm1': 'print_3d', 'm2': 'assembler'}\n",
      "MAC -> ID {'paint': 'm0', 'print_3d': 'm1', 'assembler': 'm2'}\n",
      "ID -> ORD {'o0': 'charmander_figure::client_4710', 'o1': 'marketing_pin::client_0123', 'o2': 'finish_order_412::client_3122', 'o3': 'model_suite_prototype::client_8692'}\n",
      "ORD -> ID {'charmander_figure::client_4710': 'o0', 'marketing_pin::client_0123': 'o1', 'finish_order_412::client_3122': 'o2', 'model_suite_prototype::client_8692': 'o3'}\n"
     ]
    }
   ],
   "source": [
    "print(\"ID -> MAC\", id_to_mac)\n",
    "print(\"MAC -> ID\", mac_to_id)\n",
    "print(\"ID -> ORD\", id_to_ord)\n",
    "print(\"ORD -> ID\", ord_to_id)"
   ]
  },
  {
   "cell_type": "markdown",
   "metadata": {},
   "source": [
    "### Create literals for prolog"
   ]
  },
  {
   "cell_type": "code",
   "execution_count": 79,
   "metadata": {},
   "outputs": [],
   "source": [
    "literals = []\n",
    "\n",
    "for m in machines.items():\n",
    "    l = \"machineTasks(\" + mac_to_id[m[0]] + \",[\"\n",
    "    for t in m[1]:\n",
    "        l += (t + \",\")\n",
    "    \n",
    "    if len(m[1]) > 0: l = l[:-1]\n",
    "    l += (\"]).\")\n",
    "\n",
    "    literals.append(l)"
   ]
  },
  {
   "cell_type": "code",
   "execution_count": 80,
   "metadata": {},
   "outputs": [],
   "source": [
    "for o in orders.items():\n",
    "    l = \"orders(\" + ord_to_id[o[0]] + \",[\"\n",
    "    for t in o[1]:\n",
    "        l += (t + \",\")\n",
    "    \n",
    "    if len(m[1]) > 0: l = l[:-1]\n",
    "    l += (\"]).\")\n",
    "    literals.append(l)"
   ]
  },
  {
   "cell_type": "code",
   "execution_count": 81,
   "metadata": {},
   "outputs": [],
   "source": [
    "for t in tasks.items():\n",
    "    l = \"taskDuration(\" + t[0] + \",\" + str(t[1]) + \").\"\n",
    "    literals.append(l)"
   ]
  },
  {
   "cell_type": "code",
   "execution_count": 82,
   "metadata": {},
   "outputs": [],
   "source": [
    "sumHoresTotal = reduce(lambda x, acc: x + acc, tasks.values(), 0)"
   ]
  },
  {
   "cell_type": "code",
   "execution_count": 83,
   "metadata": {},
   "outputs": [],
   "source": [
    "literals.append(\"maxHourInput(\" + str(sumHoresTotal) + \").\")"
   ]
  },
  {
   "cell_type": "code",
   "execution_count": 84,
   "metadata": {},
   "outputs": [
    {
     "name": "stdout",
     "output_type": "stream",
     "text": [
      "machineTasks(m0,[o0t1,o2t1]).\n",
      "machineTasks(m1,[o0t0,o1t0,o2t2,o3t0]).\n",
      "machineTasks(m2,[o2t0,o3t1]).\n",
      "orders(o0,[o0t0,o0t1]).\n",
      "orders(o1,[o1t0]).\n",
      "orders(o2,[o2t0,o2t1,o2t2]).\n",
      "orders(o3,[o3t0,o3t1]).\n",
      "taskDuration(o0t0,5).\n",
      "taskDuration(o0t1,2).\n",
      "taskDuration(o1t0,4).\n",
      "taskDuration(o2t0,6).\n",
      "taskDuration(o2t1,2).\n",
      "taskDuration(o2t2,1).\n",
      "taskDuration(o3t0,4).\n",
      "taskDuration(o3t1,3).\n",
      "maxHourInput(27).\n"
     ]
    }
   ],
   "source": [
    "for l in literals: print(l)"
   ]
  },
  {
   "cell_type": "code",
   "execution_count": 85,
   "metadata": {},
   "outputs": [],
   "source": [
    "for l in literals:\n",
    "    plInput.write(l + \"\\n\")"
   ]
  },
  {
   "cell_type": "code",
   "execution_count": 86,
   "metadata": {},
   "outputs": [],
   "source": [
    "plInput.close()"
   ]
  },
  {
   "cell_type": "markdown",
   "metadata": {},
   "source": [
    "### Read solution and get best"
   ]
  },
  {
   "cell_type": "code",
   "execution_count": 99,
   "metadata": {},
   "outputs": [],
   "source": [
    "file_path = \"./challenge1/\"\n",
    "\n",
    "raw = \"\"\n",
    "with open(file_path + \"prolog_output_challenge_1.txt\", \"r\") as f:\n",
    "    raw = reduce(lambda acc, x: acc + x + '\\n', [line.strip() for line in f.readlines()], \"\")\n",
    "\n",
    "#raw = open(file_path + \"prolog_output_challenge_1.txt\", \"r\")\n",
    "raw_sol = raw.split(\"Unsatisfiable. So the optimal solution was this one with cost \")"
   ]
  },
  {
   "cell_type": "markdown",
   "metadata": {},
   "source": [
    "### Prepare solution"
   ]
  },
  {
   "cell_type": "code",
   "execution_count": 100,
   "metadata": {},
   "outputs": [],
   "source": [
    "if len(raw_sol) > 0: raw_sol = raw_sol[1]\n",
    "else : \n",
    "    print(\"UNSAT!!\")\n",
    "    #return 0\n",
    "\n",
    "raw_sol = raw_sol.split('\\n\\n%% END OF FOUND SOLUTION %%')[0]\n",
    "cost, assig = raw_sol.split(':\\n')"
   ]
  },
  {
   "cell_type": "code",
   "execution_count": 118,
   "metadata": {},
   "outputs": [
    {
     "name": "stdout",
     "output_type": "stream",
     "text": [
      "14 Machine: m0\n",
      "Task: o0t1 13-14\n",
      "Task: o2t1 7-8\n",
      "Machine: m1\n",
      "Task: o0t0 5-9\n",
      "Task: o1t0 10-13\n",
      "Task: o2t2 14-14\n",
      "Task: o3t0 1-4\n",
      "Machine: m2\n",
      "Task: o2t0 1-6\n",
      "Task: o3t1 12-14\n",
      "\n"
     ]
    }
   ],
   "source": [
    "print(cost, assig)"
   ]
  },
  {
   "cell_type": "code",
   "execution_count": 108,
   "metadata": {},
   "outputs": [],
   "source": [
    "which_order = lambda tid: tid.split('t')[0]\n",
    "which_task_number = lambda tid: int(tid.split('t')[1])"
   ]
  },
  {
   "cell_type": "code",
   "execution_count": 104,
   "metadata": {},
   "outputs": [
    {
     "name": "stdout",
     "output_type": "stream",
     "text": [
      "['', 'm0\\nTask: o0t1 13-14\\nTask: o2t1 7-8\\n', 'm1\\nTask: o0t0 5-9\\nTask: o1t0 10-13\\nTask: o2t2 14-14\\nTask: o3t0 1-4\\n', 'm2\\nTask: o2t0 1-6\\nTask: o3t1 12-14\\n']\n"
     ]
    }
   ],
   "source": [
    "print(assig.split(\"Machine: \"))"
   ]
  },
  {
   "cell_type": "code",
   "execution_count": 116,
   "metadata": {},
   "outputs": [],
   "source": [
    "machines_res = []\n",
    "\n",
    "for m in assig.split(\"Machine: \")[1:]:\n",
    "    t = m.split('\\n')\n",
    "    dicMac = {\"id\" : t[0]}\n",
    "    dicMac[\"tasks\"] = []\n",
    "\n",
    "    for tt in t[1:-1]:\n",
    "        ttt = tt.split(' ')\n",
    "        dicMac[\"tasks\"].append(\n",
    "            {\n",
    "                \"order\": id_to_ord[which_order(ttt[1])],\n",
    "                \"task_number\": which_task_number(ttt[1]),\n",
    "                \"start_at\": int(ttt[2].split('-')[0]),\n",
    "                \"end_at\": int(ttt[2].split('-')[1])\n",
    "            }\n",
    "        )\n",
    "        #print(dicMac)\n",
    "    \n",
    "    machines_res.append(dicMac)\n"
   ]
  },
  {
   "cell_type": "code",
   "execution_count": 117,
   "metadata": {},
   "outputs": [
    {
     "name": "stdout",
     "output_type": "stream",
     "text": [
      "[{'id': 'm0', 'tasks': [{'order': 'charmander_figure::client_4710', 'task_number': 1, 'start_at': 13, 'end_at': 14}, {'order': 'finish_order_412::client_3122', 'task_number': 1, 'start_at': 7, 'end_at': 8}]}, {'id': 'm1', 'tasks': [{'order': 'charmander_figure::client_4710', 'task_number': 0, 'start_at': 5, 'end_at': 9}, {'order': 'marketing_pin::client_0123', 'task_number': 0, 'start_at': 10, 'end_at': 13}, {'order': 'finish_order_412::client_3122', 'task_number': 2, 'start_at': 14, 'end_at': 14}, {'order': 'model_suite_prototype::client_8692', 'task_number': 0, 'start_at': 1, 'end_at': 4}]}, {'id': 'm2', 'tasks': [{'order': 'finish_order_412::client_3122', 'task_number': 0, 'start_at': 1, 'end_at': 6}, {'order': 'model_suite_prototype::client_8692', 'task_number': 1, 'start_at': 12, 'end_at': 14}]}]\n"
     ]
    }
   ],
   "source": [
    "print(machines_res)"
   ]
  },
  {
   "cell_type": "code",
   "execution_count": 120,
   "metadata": {},
   "outputs": [
    {
     "name": "stdout",
     "output_type": "stream",
     "text": [
      "{'cost': '14', 'assignation': [{'id': 'm0', 'tasks': [{'order': 'charmander_figure::client_4710', 'task_number': 1, 'start_at': 13, 'end_at': 14}, {'order': 'finish_order_412::client_3122', 'task_number': 1, 'start_at': 7, 'end_at': 8}]}, {'id': 'm1', 'tasks': [{'order': 'charmander_figure::client_4710', 'task_number': 0, 'start_at': 5, 'end_at': 9}, {'order': 'marketing_pin::client_0123', 'task_number': 0, 'start_at': 10, 'end_at': 13}, {'order': 'finish_order_412::client_3122', 'task_number': 2, 'start_at': 14, 'end_at': 14}, {'order': 'model_suite_prototype::client_8692', 'task_number': 0, 'start_at': 1, 'end_at': 4}]}, {'id': 'm2', 'tasks': [{'order': 'finish_order_412::client_3122', 'task_number': 0, 'start_at': 1, 'end_at': 6}, {'order': 'model_suite_prototype::client_8692', 'task_number': 1, 'start_at': 12, 'end_at': 14}]}]}\n"
     ]
    }
   ],
   "source": [
    "result_processed = {\"cost\" : cost, \"assignation\" : machines_res}\n",
    "print(result_processed)"
   ]
  },
  {
   "cell_type": "markdown",
   "metadata": {},
   "source": [
    "### Write solution"
   ]
  },
  {
   "cell_type": "markdown",
   "metadata": {},
   "source": [
    "## Challenge 2 parser"
   ]
  },
  {
   "cell_type": "code",
   "execution_count": null,
   "metadata": {},
   "outputs": [],
   "source": [
    "file_path = './challenge2/'"
   ]
  },
  {
   "cell_type": "code",
   "execution_count": null,
   "metadata": {},
   "outputs": [],
   "source": [
    "# input reading\n",
    "inJSON = open(file_path + \"/\" + \"challenge_2_input.json\")\n",
    "data = json.load(inJSON)\n",
    "\n",
    "# opening/creating output file\n",
    "plInput = open(\"./challenge2/prolog_input_challenge_2.pl\", \"w\")"
   ]
  }
 ],
 "metadata": {
  "kernelspec": {
   "display_name": "Python 3.9.13 64-bit (microsoft store)",
   "language": "python",
   "name": "python3"
  },
  "language_info": {
   "codemirror_mode": {
    "name": "ipython",
    "version": 3
   },
   "file_extension": ".py",
   "mimetype": "text/x-python",
   "name": "python",
   "nbconvert_exporter": "python",
   "pygments_lexer": "ipython3",
   "version": "3.9.13"
  },
  "orig_nbformat": 4,
  "vscode": {
   "interpreter": {
    "hash": "502030e9bdc890c4084c89b6f4b246906493deb76d1d643d971b6ed9357b50d8"
   }
  }
 },
 "nbformat": 4,
 "nbformat_minor": 2
}
