{
 "cells": [
  {
   "cell_type": "markdown",
   "metadata": {},
   "source": [
    "# HackEPS 2022 tests"
   ]
  },
  {
   "cell_type": "markdown",
   "metadata": {},
   "source": [
    "## Challenge 1 parser"
   ]
  },
  {
   "cell_type": "code",
   "execution_count": 2,
   "metadata": {},
   "outputs": [],
   "source": [
    "import argparse\n",
    "import json"
   ]
  },
  {
   "cell_type": "code",
   "execution_count": 1,
   "metadata": {},
   "outputs": [],
   "source": [
    "file_path = \".\""
   ]
  },
  {
   "cell_type": "code",
   "execution_count": 5,
   "metadata": {},
   "outputs": [],
   "source": [
    "# input reading\n",
    "inJSON = open(file_path + \"/\" + \"challenge_1_input.json\")\n",
    "data = json.load(inJSON)\n",
    "\n",
    "# opening/creating output file\n",
    "plInput = open(\"./prolog_input_challenge_1.pl\", \"w\")"
   ]
  },
  {
   "cell_type": "code",
   "execution_count": 7,
   "metadata": {},
   "outputs": [
    {
     "name": "stdout",
     "output_type": "stream",
     "text": [
      "{'orders': [{'name': 'charmander_figure::client_4710', 'tasks': [{'machine': 'print_3d', 'duration': 5}, {'machine': 'paint', 'duration': 2}]}, {'name': 'marketing_pin::client_0123', 'tasks': [{'machine': 'print_3d', 'duration': 4}]}, {'name': 'finish_order_412::client_3122', 'tasks': [{'machine': 'assembler', 'duration': 6}, {'machine': 'paint', 'duration': 2}, {'machine': 'print_3d', 'duration': 1}]}, {'name': 'model_suite_prototype::client_8692', 'tasks': [{'machine': 'print_3d', 'duration': 4}, {'machine': 'assembler', 'duration': 3}]}], 'machines': [{'id': 'paint'}, {'id': 'print_3d'}, {'id': 'assembler'}]}\n"
     ]
    }
   ],
   "source": [
    "print(data)"
   ]
  },
  {
   "cell_type": "code",
   "execution_count": 8,
   "metadata": {},
   "outputs": [],
   "source": [
    "machines = {}\n",
    "\n",
    "for m in data.get(\"machines\"):\n",
    "    machines[m.get('id')] = []"
   ]
  },
  {
   "cell_type": "code",
   "execution_count": 9,
   "metadata": {},
   "outputs": [
    {
     "name": "stdout",
     "output_type": "stream",
     "text": [
      "{'paint': [], 'print_3d': [], 'assembler': []}\n"
     ]
    }
   ],
   "source": [
    "print(machines)"
   ]
  },
  {
   "cell_type": "code",
   "execution_count": 13,
   "metadata": {},
   "outputs": [],
   "source": [
    "orders = {}\n",
    "tasks = {}\n",
    "\n",
    "for ido in range(len(data.get(\"orders\"))):\n",
    "    ord = data.get(\"orders\")[ido]\n",
    "\n",
    "    name = ord.get('name')\n",
    "    o_tasks = ord.get('tasks')\n",
    "\n",
    "    orders[name] = []\n",
    "\n",
    "    for idt in range(len(o_tasks)):\n",
    "        tas = o_tasks[idt]\n",
    "        task_name = \"o\" + str(ido) + \"t\" + str(idt)\n",
    "        tasks[task_name] = tas.get(\"duration\")\n",
    "        machines[tas.get(\"machine\")].append(task_name)\n",
    "        orders[name].append(task_name)"
   ]
  },
  {
   "cell_type": "code",
   "execution_count": 14,
   "metadata": {},
   "outputs": [
    {
     "name": "stdout",
     "output_type": "stream",
     "text": [
      "{'charmander_figure::client_4710': ['o0t0', 'o0t1'], 'marketing_pin::client_0123': ['o1t0'], 'finish_order_412::client_3122': ['o2t0', 'o2t1', 'o2t2'], 'model_suite_prototype::client_8692': ['o3t0', 'o3t1']}\n"
     ]
    }
   ],
   "source": [
    "print(orders)"
   ]
  },
  {
   "cell_type": "code",
   "execution_count": 12,
   "metadata": {},
   "outputs": [
    {
     "name": "stdout",
     "output_type": "stream",
     "text": [
      "{'o0t0': 5, 'o0t1': 2, 'o1t0': 4, 'o2t0': 6, 'o2t1': 2, 'o2t2': 1, 'o3t0': 4, 'o3t1': 3}\n"
     ]
    }
   ],
   "source": [
    "print(tasks)"
   ]
  }
 ],
 "metadata": {
  "kernelspec": {
   "display_name": "Python 3.9.13 64-bit (microsoft store)",
   "language": "python",
   "name": "python3"
  },
  "language_info": {
   "codemirror_mode": {
    "name": "ipython",
    "version": 3
   },
   "file_extension": ".py",
   "mimetype": "text/x-python",
   "name": "python",
   "nbconvert_exporter": "python",
   "pygments_lexer": "ipython3",
   "version": "3.9.13"
  },
  "orig_nbformat": 4,
  "vscode": {
   "interpreter": {
    "hash": "502030e9bdc890c4084c89b6f4b246906493deb76d1d643d971b6ed9357b50d8"
   }
  }
 },
 "nbformat": 4,
 "nbformat_minor": 2
}
