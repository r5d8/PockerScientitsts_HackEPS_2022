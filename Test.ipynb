{
 "cells": [
  {
   "cell_type": "markdown",
   "metadata": {},
   "source": [
    "# HackEPS 2022 tests"
   ]
  },
  {
   "cell_type": "markdown",
   "metadata": {},
   "source": [
    "## Challenge 1 parser"
   ]
  },
  {
   "cell_type": "code",
   "execution_count": 39,
   "metadata": {},
   "outputs": [],
   "source": [
    "import argparse\n",
    "import json\n",
    "from functools import reduce"
   ]
  },
  {
   "cell_type": "code",
   "execution_count": 1,
   "metadata": {},
   "outputs": [],
   "source": [
    "file_path = \".\""
   ]
  },
  {
   "cell_type": "code",
   "execution_count": 22,
   "metadata": {},
   "outputs": [],
   "source": [
    "flatten = lambda l : [item for sublist in l for item in sublist]"
   ]
  },
  {
   "cell_type": "markdown",
   "metadata": {},
   "source": [
    "### Read and open files"
   ]
  },
  {
   "cell_type": "code",
   "execution_count": 54,
   "metadata": {},
   "outputs": [],
   "source": [
    "# input reading\n",
    "inJSON = open(file_path + \"/\" + \"challenge_1_input.json\")\n",
    "data = json.load(inJSON)\n",
    "\n",
    "# opening/creating output file\n",
    "plInput = open(\"./prolog_input_challenge_1.pl\", \"w\")"
   ]
  },
  {
   "cell_type": "code",
   "execution_count": 7,
   "metadata": {},
   "outputs": [
    {
     "name": "stdout",
     "output_type": "stream",
     "text": [
      "{'orders': [{'name': 'charmander_figure::client_4710', 'tasks': [{'machine': 'print_3d', 'duration': 5}, {'machine': 'paint', 'duration': 2}]}, {'name': 'marketing_pin::client_0123', 'tasks': [{'machine': 'print_3d', 'duration': 4}]}, {'name': 'finish_order_412::client_3122', 'tasks': [{'machine': 'assembler', 'duration': 6}, {'machine': 'paint', 'duration': 2}, {'machine': 'print_3d', 'duration': 1}]}, {'name': 'model_suite_prototype::client_8692', 'tasks': [{'machine': 'print_3d', 'duration': 4}, {'machine': 'assembler', 'duration': 3}]}], 'machines': [{'id': 'paint'}, {'id': 'print_3d'}, {'id': 'assembler'}]}\n"
     ]
    }
   ],
   "source": [
    "print(data)"
   ]
  },
  {
   "cell_type": "markdown",
   "metadata": {},
   "source": [
    "### Order data"
   ]
  },
  {
   "cell_type": "code",
   "execution_count": 16,
   "metadata": {},
   "outputs": [],
   "source": [
    "machines = {}\n",
    "\n",
    "mac_to_id = {} #Map a machine name to its id\n",
    "id_to_mac = {} #Map a machine's id to its name\n",
    "\n",
    "for idm in range(len(data.get(\"machines\"))):\n",
    "    m = data.get(\"machines\")[idm]\n",
    "    machines[m.get('id')] = []\n",
    "    mac_to_id[m.get('id')] = \"m\" + str(idm)\n",
    "    id_to_mac[\"m\" + str(idm)] = m.get('id')\n"
   ]
  },
  {
   "cell_type": "code",
   "execution_count": 17,
   "metadata": {},
   "outputs": [
    {
     "name": "stdout",
     "output_type": "stream",
     "text": [
      "{'paint': [], 'print_3d': [], 'assembler': []}\n"
     ]
    }
   ],
   "source": [
    "print(machines)"
   ]
  },
  {
   "cell_type": "code",
   "execution_count": 18,
   "metadata": {},
   "outputs": [],
   "source": [
    "orders = {}\n",
    "tasks = {}\n",
    "\n",
    "ord_to_id = {}\n",
    "id_to_ord = {}\n",
    "\n",
    "for ido in range(len(data.get(\"orders\"))):\n",
    "    ord = data.get(\"orders\")[ido]\n",
    "\n",
    "    name = ord.get('name')\n",
    "    o_tasks = ord.get('tasks')\n",
    "\n",
    "    orders[name] = []\n",
    "\n",
    "    ord_to_id[name] = \"o\" + str(ido)\n",
    "    id_to_ord[\"o\" + str(ido)] = name\n",
    "\n",
    "    for idt in range(len(o_tasks)):\n",
    "        tas = o_tasks[idt]\n",
    "        task_name = \"o\" + str(ido) + \"t\" + str(idt)\n",
    "        \n",
    "        tasks[task_name] = tas.get(\"duration\")\n",
    "        machines[tas.get(\"machine\")].append(task_name)\n",
    "        orders[name].append(task_name)\n"
   ]
  },
  {
   "cell_type": "code",
   "execution_count": 19,
   "metadata": {},
   "outputs": [
    {
     "name": "stdout",
     "output_type": "stream",
     "text": [
      "{'charmander_figure::client_4710': ['o0t0', 'o0t1'], 'marketing_pin::client_0123': ['o1t0'], 'finish_order_412::client_3122': ['o2t0', 'o2t1', 'o2t2'], 'model_suite_prototype::client_8692': ['o3t0', 'o3t1']}\n"
     ]
    }
   ],
   "source": [
    "print(orders)"
   ]
  },
  {
   "cell_type": "code",
   "execution_count": 20,
   "metadata": {},
   "outputs": [
    {
     "name": "stdout",
     "output_type": "stream",
     "text": [
      "{'o0t0': 5, 'o0t1': 2, 'o1t0': 4, 'o2t0': 6, 'o2t1': 2, 'o2t2': 1, 'o3t0': 4, 'o3t1': 3}\n"
     ]
    }
   ],
   "source": [
    "print(tasks)"
   ]
  },
  {
   "cell_type": "code",
   "execution_count": 21,
   "metadata": {},
   "outputs": [
    {
     "name": "stdout",
     "output_type": "stream",
     "text": [
      "ID -> MAC {'m0': 'paint', 'm1': 'print_3d', 'm2': 'assembler'}\n",
      "MAC -> ID {'paint': 'm0', 'print_3d': 'm1', 'assembler': 'm2'}\n",
      "ID -> ORD {'o0': 'charmander_figure::client_4710', 'o1': 'marketing_pin::client_0123', 'o2': 'finish_order_412::client_3122', 'o3': 'model_suite_prototype::client_8692'}\n",
      "ORD -> ID {'charmander_figure::client_4710': 'o0', 'marketing_pin::client_0123': 'o1', 'finish_order_412::client_3122': 'o2', 'model_suite_prototype::client_8692': 'o3'}\n"
     ]
    }
   ],
   "source": [
    "print(\"ID -> MAC\", id_to_mac)\n",
    "print(\"MAC -> ID\", mac_to_id)\n",
    "print(\"ID -> ORD\", id_to_ord)\n",
    "print(\"ORD -> ID\", ord_to_id)"
   ]
  },
  {
   "cell_type": "markdown",
   "metadata": {},
   "source": [
    "### Create literals for prolog"
   ]
  },
  {
   "cell_type": "code",
   "execution_count": 30,
   "metadata": {},
   "outputs": [],
   "source": [
    "literals = []\n",
    "\n",
    "for m in machines.items():\n",
    "    l = \"machineTasks(\" + mac_to_id[m[0]] + \",[\"\n",
    "    for t in m[1]:\n",
    "        l += (t + \",\")\n",
    "    \n",
    "    if len(m[1]) > 0: l = l[:-1]\n",
    "    l += (\"]).\")\n",
    "\n",
    "    literals.append(l)"
   ]
  },
  {
   "cell_type": "code",
   "execution_count": 34,
   "metadata": {},
   "outputs": [],
   "source": [
    "for o in orders.items():\n",
    "    l = \"orders(\" + ord_to_id[o[0]] + \",[\"\n",
    "    for t in o[1]:\n",
    "        l += (t + \",\")\n",
    "    \n",
    "    if len(m[1]) > 0: l = l[:-1]\n",
    "    l += (\"]).\")\n",
    "    literals.append(l)"
   ]
  },
  {
   "cell_type": "code",
   "execution_count": 36,
   "metadata": {},
   "outputs": [],
   "source": [
    "for t in tasks.items():\n",
    "    l = \"taskDuration(\" + t[0] + \",\" + str(t[1]) + \").\"\n",
    "    literals.append(l)"
   ]
  },
  {
   "cell_type": "code",
   "execution_count": 41,
   "metadata": {},
   "outputs": [],
   "source": [
    "sumHoresTotal = reduce(lambda x, acc: x + acc, tasks.values(), 0)"
   ]
  },
  {
   "cell_type": "code",
   "execution_count": 43,
   "metadata": {},
   "outputs": [],
   "source": [
    "literals.append(\"maxHourInput(\" + str(sumHoresTotal) + \").\")"
   ]
  },
  {
   "cell_type": "code",
   "execution_count": 48,
   "metadata": {},
   "outputs": [
    {
     "name": "stdout",
     "output_type": "stream",
     "text": [
      "machineTasks(m0,[o0t1,o2t1]).\n",
      "machineTasks(m1,[o0t0,o1t0,o2t2,o3t0]).\n",
      "machineTasks(m2,[o2t0,o3t1]).\n",
      "orders(o0,[o0t0,o0t1]).\n",
      "orders(o1,[o1t0]).\n",
      "orders(o2,[o2t0,o2t1,o2t2]).\n",
      "orders(o3,[o3t0,o3t1]).\n",
      "taskDuration(o0t0,5).\n",
      "taskDuration(o0t1,2).\n",
      "taskDuration(o1t0,4).\n",
      "taskDuration(o2t0,6).\n",
      "taskDuration(o2t1,2).\n",
      "taskDuration(o2t2,1).\n",
      "taskDuration(o3t0,4).\n",
      "taskDuration(o3t1,3).\n",
      "maxHourInput(27).\n"
     ]
    }
   ],
   "source": [
    "for l in literals: print(l)"
   ]
  },
  {
   "cell_type": "code",
   "execution_count": 55,
   "metadata": {},
   "outputs": [],
   "source": [
    "for l in literals:\n",
    "    plInput.write(l + \"\\n\")"
   ]
  },
  {
   "cell_type": "code",
   "execution_count": 56,
   "metadata": {},
   "outputs": [],
   "source": [
    "plInput.close()"
   ]
  },
  {
   "cell_type": "markdown",
   "metadata": {},
   "source": [
    "### Read solution and get best"
   ]
  },
  {
   "cell_type": "code",
   "execution_count": null,
   "metadata": {},
   "outputs": [],
   "source": []
  },
  {
   "cell_type": "markdown",
   "metadata": {},
   "source": [
    "### Prepare solution"
   ]
  },
  {
   "cell_type": "markdown",
   "metadata": {},
   "source": [
    "### Write solution"
   ]
  }
 ],
 "metadata": {
  "kernelspec": {
   "display_name": "Python 3.9.13 64-bit (microsoft store)",
   "language": "python",
   "name": "python3"
  },
  "language_info": {
   "codemirror_mode": {
    "name": "ipython",
    "version": 3
   },
   "file_extension": ".py",
   "mimetype": "text/x-python",
   "name": "python",
   "nbconvert_exporter": "python",
   "pygments_lexer": "ipython3",
   "version": "3.9.13"
  },
  "orig_nbformat": 4,
  "vscode": {
   "interpreter": {
    "hash": "502030e9bdc890c4084c89b6f4b246906493deb76d1d643d971b6ed9357b50d8"
   }
  }
 },
 "nbformat": 4,
 "nbformat_minor": 2
}
